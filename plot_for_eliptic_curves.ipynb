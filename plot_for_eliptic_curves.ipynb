{
  "nbformat": 4,
  "nbformat_minor": 0,
  "metadata": {
    "colab": {
      "name": "plot_for_eliptic_curves.ipynb",
      "provenance": [],
      "collapsed_sections": [],
      "mount_file_id": "1a2pz7eMzIoPYtQBmsVHuIwC-yG0-tYXd",
      "authorship_tag": "ABX9TyPUiiUkkjzPDEdJ64gOzpPF",
      "include_colab_link": true
    },
    "kernelspec": {
      "name": "python3",
      "display_name": "Python 3"
    },
    "language_info": {
      "name": "python"
    },
    "widgets": {
      "application/vnd.jupyter.widget-state+json": {
        "6bcb9d38763642e3b480d547a434192d": {
          "model_module": "@jupyter-widgets/controls",
          "model_name": "VBoxModel",
          "model_module_version": "1.5.0",
          "state": {
            "_view_name": "VBoxView",
            "_dom_classes": [
              "widget-interact"
            ],
            "_model_name": "VBoxModel",
            "_view_module": "@jupyter-widgets/controls",
            "_model_module_version": "1.5.0",
            "_view_count": null,
            "_view_module_version": "1.5.0",
            "box_style": "",
            "layout": "IPY_MODEL_5a2b5c76b4524df8b7f415c6da76ee49",
            "_model_module": "@jupyter-widgets/controls",
            "children": [
              "IPY_MODEL_60f8334b099c4f3ebb8ef024af2d3573",
              "IPY_MODEL_5a0fecc67b1c432ba9880d15750f3d22",
              "IPY_MODEL_99a69681c3ea44eda1c1fd5c81f2c6fb",
              "IPY_MODEL_cffe934d1bd44ab78c70bc55633f8e32",
              "IPY_MODEL_9e4d794eb82e4aa382c9fab2612fa9ed",
              "IPY_MODEL_898c209e24cc40d9ab4b0cbc1becbbe2"
            ]
          }
        },
        "5a2b5c76b4524df8b7f415c6da76ee49": {
          "model_module": "@jupyter-widgets/base",
          "model_name": "LayoutModel",
          "model_module_version": "1.2.0",
          "state": {
            "_view_name": "LayoutView",
            "grid_template_rows": null,
            "right": null,
            "justify_content": null,
            "_view_module": "@jupyter-widgets/base",
            "overflow": null,
            "_model_module_version": "1.2.0",
            "_view_count": null,
            "flex_flow": null,
            "width": null,
            "min_width": null,
            "border": null,
            "align_items": null,
            "bottom": null,
            "_model_module": "@jupyter-widgets/base",
            "top": null,
            "grid_column": null,
            "overflow_y": null,
            "overflow_x": null,
            "grid_auto_flow": null,
            "grid_area": null,
            "grid_template_columns": null,
            "flex": null,
            "_model_name": "LayoutModel",
            "justify_items": null,
            "grid_row": null,
            "max_height": null,
            "align_content": null,
            "visibility": null,
            "align_self": null,
            "height": null,
            "min_height": null,
            "padding": null,
            "grid_auto_rows": null,
            "grid_gap": null,
            "max_width": null,
            "order": null,
            "_view_module_version": "1.2.0",
            "grid_template_areas": null,
            "object_position": null,
            "object_fit": null,
            "grid_auto_columns": null,
            "margin": null,
            "display": null,
            "left": null
          }
        },
        "60f8334b099c4f3ebb8ef024af2d3573": {
          "model_module": "@jupyter-widgets/controls",
          "model_name": "FloatSliderModel",
          "model_module_version": "1.5.0",
          "state": {
            "_view_name": "FloatSliderView",
            "style": "IPY_MODEL_0ab00e52009942d88675b7de3f3a25f9",
            "_dom_classes": [],
            "description": "a",
            "step": 0.1,
            "_model_name": "FloatSliderModel",
            "orientation": "horizontal",
            "max": 10,
            "_view_module": "@jupyter-widgets/controls",
            "_model_module_version": "1.5.0",
            "value": 0,
            "_view_count": null,
            "disabled": false,
            "_view_module_version": "1.5.0",
            "min": -10,
            "continuous_update": true,
            "readout_format": ".2f",
            "description_tooltip": null,
            "readout": true,
            "_model_module": "@jupyter-widgets/controls",
            "layout": "IPY_MODEL_5ff30f5a0fea457eae27294b1b30fabf"
          }
        },
        "5a0fecc67b1c432ba9880d15750f3d22": {
          "model_module": "@jupyter-widgets/controls",
          "model_name": "FloatSliderModel",
          "model_module_version": "1.5.0",
          "state": {
            "_view_name": "FloatSliderView",
            "style": "IPY_MODEL_7a559c49eabb4ab5b8475f499bbd6530",
            "_dom_classes": [],
            "description": "b",
            "step": 0.1,
            "_model_name": "FloatSliderModel",
            "orientation": "horizontal",
            "max": 10,
            "_view_module": "@jupyter-widgets/controls",
            "_model_module_version": "1.5.0",
            "value": 0,
            "_view_count": null,
            "disabled": false,
            "_view_module_version": "1.5.0",
            "min": -10,
            "continuous_update": true,
            "readout_format": ".2f",
            "description_tooltip": null,
            "readout": true,
            "_model_module": "@jupyter-widgets/controls",
            "layout": "IPY_MODEL_c9646c9d60984db19dd4b723399baac0"
          }
        },
        "99a69681c3ea44eda1c1fd5c81f2c6fb": {
          "model_module": "@jupyter-widgets/controls",
          "model_name": "FloatSliderModel",
          "model_module_version": "1.5.0",
          "state": {
            "_view_name": "FloatSliderView",
            "style": "IPY_MODEL_0f9517bfafd14d73955b22faf929cccc",
            "_dom_classes": [],
            "description": "c",
            "step": 0.1,
            "_model_name": "FloatSliderModel",
            "orientation": "horizontal",
            "max": 10,
            "_view_module": "@jupyter-widgets/controls",
            "_model_module_version": "1.5.0",
            "value": 0,
            "_view_count": null,
            "disabled": false,
            "_view_module_version": "1.5.0",
            "min": -10,
            "continuous_update": true,
            "readout_format": ".2f",
            "description_tooltip": null,
            "readout": true,
            "_model_module": "@jupyter-widgets/controls",
            "layout": "IPY_MODEL_fc6d5d171628405da738581f83a8ecab"
          }
        },
        "cffe934d1bd44ab78c70bc55633f8e32": {
          "model_module": "@jupyter-widgets/controls",
          "model_name": "FloatSliderModel",
          "model_module_version": "1.5.0",
          "state": {
            "_view_name": "FloatSliderView",
            "style": "IPY_MODEL_385530ab40074c949e46f1d31a767639",
            "_dom_classes": [],
            "description": "d",
            "step": 0.1,
            "_model_name": "FloatSliderModel",
            "orientation": "horizontal",
            "max": 10,
            "_view_module": "@jupyter-widgets/controls",
            "_model_module_version": "1.5.0",
            "value": -3.1,
            "_view_count": null,
            "disabled": false,
            "_view_module_version": "1.5.0",
            "min": -10,
            "continuous_update": true,
            "readout_format": ".2f",
            "description_tooltip": null,
            "readout": true,
            "_model_module": "@jupyter-widgets/controls",
            "layout": "IPY_MODEL_c37a997de1ac47d4a66a198b668394cb"
          }
        },
        "9e4d794eb82e4aa382c9fab2612fa9ed": {
          "model_module": "@jupyter-widgets/controls",
          "model_name": "FloatSliderModel",
          "model_module_version": "1.5.0",
          "state": {
            "_view_name": "FloatSliderView",
            "style": "IPY_MODEL_e594957bc004448c99f4bad10bc5c34f",
            "_dom_classes": [],
            "description": "e",
            "step": 0.1,
            "_model_name": "FloatSliderModel",
            "orientation": "horizontal",
            "max": 10,
            "_view_module": "@jupyter-widgets/controls",
            "_model_module_version": "1.5.0",
            "value": 5.4,
            "_view_count": null,
            "disabled": false,
            "_view_module_version": "1.5.0",
            "min": -10,
            "continuous_update": true,
            "readout_format": ".2f",
            "description_tooltip": null,
            "readout": true,
            "_model_module": "@jupyter-widgets/controls",
            "layout": "IPY_MODEL_2b9efaa274ef4a49828b7b5ad77a2ce8"
          }
        },
        "898c209e24cc40d9ab4b0cbc1becbbe2": {
          "model_module": "@jupyter-widgets/output",
          "model_name": "OutputModel",
          "model_module_version": "1.0.0",
          "state": {
            "_view_name": "OutputView",
            "msg_id": "",
            "_dom_classes": [],
            "_model_name": "OutputModel",
            "outputs": [
              {
                "output_type": "display_data",
                "data": {
                  "image/png": "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\n",
                  "text/plain": "<Figure size 432x288 with 1 Axes>"
                },
                "metadata": {
                  "needs_background": "light"
                }
              }
            ],
            "_view_module": "@jupyter-widgets/output",
            "_model_module_version": "1.0.0",
            "_view_count": null,
            "_view_module_version": "1.0.0",
            "layout": "IPY_MODEL_a10260f6243546e4a5e5efc7466c3ef6",
            "_model_module": "@jupyter-widgets/output"
          }
        },
        "0ab00e52009942d88675b7de3f3a25f9": {
          "model_module": "@jupyter-widgets/controls",
          "model_name": "SliderStyleModel",
          "model_module_version": "1.5.0",
          "state": {
            "_view_name": "StyleView",
            "handle_color": null,
            "_model_name": "SliderStyleModel",
            "description_width": "",
            "_view_module": "@jupyter-widgets/base",
            "_model_module_version": "1.5.0",
            "_view_count": null,
            "_view_module_version": "1.2.0",
            "_model_module": "@jupyter-widgets/controls"
          }
        },
        "5ff30f5a0fea457eae27294b1b30fabf": {
          "model_module": "@jupyter-widgets/base",
          "model_name": "LayoutModel",
          "model_module_version": "1.2.0",
          "state": {
            "_view_name": "LayoutView",
            "grid_template_rows": null,
            "right": null,
            "justify_content": null,
            "_view_module": "@jupyter-widgets/base",
            "overflow": null,
            "_model_module_version": "1.2.0",
            "_view_count": null,
            "flex_flow": null,
            "width": null,
            "min_width": null,
            "border": null,
            "align_items": null,
            "bottom": null,
            "_model_module": "@jupyter-widgets/base",
            "top": null,
            "grid_column": null,
            "overflow_y": null,
            "overflow_x": null,
            "grid_auto_flow": null,
            "grid_area": null,
            "grid_template_columns": null,
            "flex": null,
            "_model_name": "LayoutModel",
            "justify_items": null,
            "grid_row": null,
            "max_height": null,
            "align_content": null,
            "visibility": null,
            "align_self": null,
            "height": null,
            "min_height": null,
            "padding": null,
            "grid_auto_rows": null,
            "grid_gap": null,
            "max_width": null,
            "order": null,
            "_view_module_version": "1.2.0",
            "grid_template_areas": null,
            "object_position": null,
            "object_fit": null,
            "grid_auto_columns": null,
            "margin": null,
            "display": null,
            "left": null
          }
        },
        "7a559c49eabb4ab5b8475f499bbd6530": {
          "model_module": "@jupyter-widgets/controls",
          "model_name": "SliderStyleModel",
          "model_module_version": "1.5.0",
          "state": {
            "_view_name": "StyleView",
            "handle_color": null,
            "_model_name": "SliderStyleModel",
            "description_width": "",
            "_view_module": "@jupyter-widgets/base",
            "_model_module_version": "1.5.0",
            "_view_count": null,
            "_view_module_version": "1.2.0",
            "_model_module": "@jupyter-widgets/controls"
          }
        },
        "c9646c9d60984db19dd4b723399baac0": {
          "model_module": "@jupyter-widgets/base",
          "model_name": "LayoutModel",
          "model_module_version": "1.2.0",
          "state": {
            "_view_name": "LayoutView",
            "grid_template_rows": null,
            "right": null,
            "justify_content": null,
            "_view_module": "@jupyter-widgets/base",
            "overflow": null,
            "_model_module_version": "1.2.0",
            "_view_count": null,
            "flex_flow": null,
            "width": null,
            "min_width": null,
            "border": null,
            "align_items": null,
            "bottom": null,
            "_model_module": "@jupyter-widgets/base",
            "top": null,
            "grid_column": null,
            "overflow_y": null,
            "overflow_x": null,
            "grid_auto_flow": null,
            "grid_area": null,
            "grid_template_columns": null,
            "flex": null,
            "_model_name": "LayoutModel",
            "justify_items": null,
            "grid_row": null,
            "max_height": null,
            "align_content": null,
            "visibility": null,
            "align_self": null,
            "height": null,
            "min_height": null,
            "padding": null,
            "grid_auto_rows": null,
            "grid_gap": null,
            "max_width": null,
            "order": null,
            "_view_module_version": "1.2.0",
            "grid_template_areas": null,
            "object_position": null,
            "object_fit": null,
            "grid_auto_columns": null,
            "margin": null,
            "display": null,
            "left": null
          }
        },
        "0f9517bfafd14d73955b22faf929cccc": {
          "model_module": "@jupyter-widgets/controls",
          "model_name": "SliderStyleModel",
          "model_module_version": "1.5.0",
          "state": {
            "_view_name": "StyleView",
            "handle_color": null,
            "_model_name": "SliderStyleModel",
            "description_width": "",
            "_view_module": "@jupyter-widgets/base",
            "_model_module_version": "1.5.0",
            "_view_count": null,
            "_view_module_version": "1.2.0",
            "_model_module": "@jupyter-widgets/controls"
          }
        },
        "fc6d5d171628405da738581f83a8ecab": {
          "model_module": "@jupyter-widgets/base",
          "model_name": "LayoutModel",
          "model_module_version": "1.2.0",
          "state": {
            "_view_name": "LayoutView",
            "grid_template_rows": null,
            "right": null,
            "justify_content": null,
            "_view_module": "@jupyter-widgets/base",
            "overflow": null,
            "_model_module_version": "1.2.0",
            "_view_count": null,
            "flex_flow": null,
            "width": null,
            "min_width": null,
            "border": null,
            "align_items": null,
            "bottom": null,
            "_model_module": "@jupyter-widgets/base",
            "top": null,
            "grid_column": null,
            "overflow_y": null,
            "overflow_x": null,
            "grid_auto_flow": null,
            "grid_area": null,
            "grid_template_columns": null,
            "flex": null,
            "_model_name": "LayoutModel",
            "justify_items": null,
            "grid_row": null,
            "max_height": null,
            "align_content": null,
            "visibility": null,
            "align_self": null,
            "height": null,
            "min_height": null,
            "padding": null,
            "grid_auto_rows": null,
            "grid_gap": null,
            "max_width": null,
            "order": null,
            "_view_module_version": "1.2.0",
            "grid_template_areas": null,
            "object_position": null,
            "object_fit": null,
            "grid_auto_columns": null,
            "margin": null,
            "display": null,
            "left": null
          }
        },
        "385530ab40074c949e46f1d31a767639": {
          "model_module": "@jupyter-widgets/controls",
          "model_name": "SliderStyleModel",
          "model_module_version": "1.5.0",
          "state": {
            "_view_name": "StyleView",
            "handle_color": null,
            "_model_name": "SliderStyleModel",
            "description_width": "",
            "_view_module": "@jupyter-widgets/base",
            "_model_module_version": "1.5.0",
            "_view_count": null,
            "_view_module_version": "1.2.0",
            "_model_module": "@jupyter-widgets/controls"
          }
        },
        "c37a997de1ac47d4a66a198b668394cb": {
          "model_module": "@jupyter-widgets/base",
          "model_name": "LayoutModel",
          "model_module_version": "1.2.0",
          "state": {
            "_view_name": "LayoutView",
            "grid_template_rows": null,
            "right": null,
            "justify_content": null,
            "_view_module": "@jupyter-widgets/base",
            "overflow": null,
            "_model_module_version": "1.2.0",
            "_view_count": null,
            "flex_flow": null,
            "width": null,
            "min_width": null,
            "border": null,
            "align_items": null,
            "bottom": null,
            "_model_module": "@jupyter-widgets/base",
            "top": null,
            "grid_column": null,
            "overflow_y": null,
            "overflow_x": null,
            "grid_auto_flow": null,
            "grid_area": null,
            "grid_template_columns": null,
            "flex": null,
            "_model_name": "LayoutModel",
            "justify_items": null,
            "grid_row": null,
            "max_height": null,
            "align_content": null,
            "visibility": null,
            "align_self": null,
            "height": null,
            "min_height": null,
            "padding": null,
            "grid_auto_rows": null,
            "grid_gap": null,
            "max_width": null,
            "order": null,
            "_view_module_version": "1.2.0",
            "grid_template_areas": null,
            "object_position": null,
            "object_fit": null,
            "grid_auto_columns": null,
            "margin": null,
            "display": null,
            "left": null
          }
        },
        "e594957bc004448c99f4bad10bc5c34f": {
          "model_module": "@jupyter-widgets/controls",
          "model_name": "SliderStyleModel",
          "model_module_version": "1.5.0",
          "state": {
            "_view_name": "StyleView",
            "handle_color": null,
            "_model_name": "SliderStyleModel",
            "description_width": "",
            "_view_module": "@jupyter-widgets/base",
            "_model_module_version": "1.5.0",
            "_view_count": null,
            "_view_module_version": "1.2.0",
            "_model_module": "@jupyter-widgets/controls"
          }
        },
        "2b9efaa274ef4a49828b7b5ad77a2ce8": {
          "model_module": "@jupyter-widgets/base",
          "model_name": "LayoutModel",
          "model_module_version": "1.2.0",
          "state": {
            "_view_name": "LayoutView",
            "grid_template_rows": null,
            "right": null,
            "justify_content": null,
            "_view_module": "@jupyter-widgets/base",
            "overflow": null,
            "_model_module_version": "1.2.0",
            "_view_count": null,
            "flex_flow": null,
            "width": null,
            "min_width": null,
            "border": null,
            "align_items": null,
            "bottom": null,
            "_model_module": "@jupyter-widgets/base",
            "top": null,
            "grid_column": null,
            "overflow_y": null,
            "overflow_x": null,
            "grid_auto_flow": null,
            "grid_area": null,
            "grid_template_columns": null,
            "flex": null,
            "_model_name": "LayoutModel",
            "justify_items": null,
            "grid_row": null,
            "max_height": null,
            "align_content": null,
            "visibility": null,
            "align_self": null,
            "height": null,
            "min_height": null,
            "padding": null,
            "grid_auto_rows": null,
            "grid_gap": null,
            "max_width": null,
            "order": null,
            "_view_module_version": "1.2.0",
            "grid_template_areas": null,
            "object_position": null,
            "object_fit": null,
            "grid_auto_columns": null,
            "margin": null,
            "display": null,
            "left": null
          }
        },
        "a10260f6243546e4a5e5efc7466c3ef6": {
          "model_module": "@jupyter-widgets/base",
          "model_name": "LayoutModel",
          "model_module_version": "1.2.0",
          "state": {
            "_view_name": "LayoutView",
            "grid_template_rows": null,
            "right": null,
            "justify_content": null,
            "_view_module": "@jupyter-widgets/base",
            "overflow": null,
            "_model_module_version": "1.2.0",
            "_view_count": null,
            "flex_flow": null,
            "width": null,
            "min_width": null,
            "border": null,
            "align_items": null,
            "bottom": null,
            "_model_module": "@jupyter-widgets/base",
            "top": null,
            "grid_column": null,
            "overflow_y": null,
            "overflow_x": null,
            "grid_auto_flow": null,
            "grid_area": null,
            "grid_template_columns": null,
            "flex": null,
            "_model_name": "LayoutModel",
            "justify_items": null,
            "grid_row": null,
            "max_height": null,
            "align_content": null,
            "visibility": null,
            "align_self": null,
            "height": null,
            "min_height": null,
            "padding": null,
            "grid_auto_rows": null,
            "grid_gap": null,
            "max_width": null,
            "order": null,
            "_view_module_version": "1.2.0",
            "grid_template_areas": null,
            "object_position": null,
            "object_fit": null,
            "grid_auto_columns": null,
            "margin": null,
            "display": null,
            "left": null
          }
        }
      }
    }
  },
  "cells": [
    {
      "cell_type": "markdown",
      "metadata": {
        "id": "view-in-github",
        "colab_type": "text"
      },
      "source": [
        "<a href=\"https://colab.research.google.com/github/desabuh/elliptic_curves_cryptography_plots/blob/master/plot_for_eliptic_curves.ipynb\" target=\"_parent\"><img src=\"https://colab.research.google.com/assets/colab-badge.svg\" alt=\"Open In Colab\"/></a>"
      ]
    },
    {
      "cell_type": "code",
      "metadata": {
        "id": "5KshdH61sego"
      },
      "source": [
        "import matplotlib.pyplot as plt\n",
        "import math\n",
        "import numpy as np\n",
        "%matplotlib inline\n",
        "from ipywidgets import interact\n",
        "from sympy import nsolve"
      ],
      "execution_count": 4,
      "outputs": []
    },
    {
      "cell_type": "markdown",
      "metadata": {
        "id": "H6vBdrkvzbYZ"
      },
      "source": [
        "TOTIENT FUNCTION\n"
      ]
    },
    {
      "cell_type": "code",
      "metadata": {
        "id": "SbcX1uXIsnOI"
      },
      "source": [
        "def gcd(a, b):\n",
        "  if b==0:\n",
        "    return a\n",
        "  return gcd(b, a % b)"
      ],
      "execution_count": null,
      "outputs": []
    },
    {
      "cell_type": "code",
      "metadata": {
        "id": "2Y_7nOE2spEA",
        "colab": {
          "base_uri": "https://localhost:8080/",
          "height": 279
        },
        "outputId": "8ecd851a-ab31-44b3-ec96-4c08fd092356"
      },
      "source": [
        "plt.gca().spines['top'].set_visible(False)\n",
        "plt.gca().spines['right'].set_visible(False)\n",
        "plt.xlabel(\"N\")\n",
        "plt.ylabel(\"phi(N)\")\n",
        "plt.scatter([*range(1,2500)], [sum(gcd(n, i) == 1 for i in range(1,n)) for n in range(1, 2500)], s = 1, c='green');\n",
        "plt.show()"
      ],
      "execution_count": null,
      "outputs": [
        {
          "output_type": "display_data",
          "data": {
            "image/png": "[encoded data removed]",
            "text/plain": [
              "<Figure size 432x288 with 1 Axes>"
            ]
          },
          "metadata": {
            "needs_background": "light"
          }
        }
      ]
    },
    {
      "cell_type": "markdown",
      "metadata": {
        "id": "w-xduxm4zfJg"
      },
      "source": [
        "GENERAL TO WEISTRASS FORM\n"
      ]
    },
    {
      "cell_type": "code",
      "metadata": {
        "colab": {
          "base_uri": "https://localhost:8080/",
          "height": 425,
          "referenced_widgets": [
            "6bcb9d38763642e3b480d547a434192d",
            "5a2b5c76b4524df8b7f415c6da76ee49",
            "60f8334b099c4f3ebb8ef024af2d3573",
            "5a0fecc67b1c432ba9880d15750f3d22",
            "99a69681c3ea44eda1c1fd5c81f2c6fb",
            "cffe934d1bd44ab78c70bc55633f8e32",
            "9e4d794eb82e4aa382c9fab2612fa9ed",
            "898c209e24cc40d9ab4b0cbc1becbbe2",
            "0ab00e52009942d88675b7de3f3a25f9",
            "5ff30f5a0fea457eae27294b1b30fabf",
            "7a559c49eabb4ab5b8475f499bbd6530",
            "c9646c9d60984db19dd4b723399baac0",
            "0f9517bfafd14d73955b22faf929cccc",
            "fc6d5d171628405da738581f83a8ecab",
            "385530ab40074c949e46f1d31a767639",
            "c37a997de1ac47d4a66a198b668394cb",
            "e594957bc004448c99f4bad10bc5c34f",
            "2b9efaa274ef4a49828b7b5ad77a2ce8",
            "a10260f6243546e4a5e5efc7466c3ef6"
          ]
        },
        "id": "V9EDDhjcB8FO",
        "outputId": "ee24d046-f1a6-456f-eb62-06cfafb25722"
      },
      "source": [
        "@interact(a = (-10,10,0.1), b=(-10,10,0.1), c=(-10,10,0.1), d=(-10,10,0.1), e=(-10,10,0.1))\n",
        "def ell_curve(a, b, c, d, e):\n",
        "  mx2, mx1 = np.ogrid[-10:10:0.1,-15:15:0.1]\n",
        "  def evaluate_general(x,y):\n",
        "    return np.power(y,2) + a*x*y + b*y - np.power(x, 3) - c * np.power(x,2) - d*x - e\n",
        "  def transform_coord(x,y):\n",
        "    return x - ((a**2 + 4*c) / 12), y - (a / 2)*x + ((a**3 + 4*a*c - 12 * b) / 24)\n",
        "  def evaluate_normal(x,y):\n",
        "    x, y = transform_coord(x,y)\n",
        "    return np.power(y,2) - np.power(x,3) - d*x - e\n",
        "\n",
        " \n",
        "  plt.contour(mx1.ravel(), mx2.ravel(), evaluate_general(mx1, mx2), [0], colors=\"blue\")\n",
        "  plt.contour(mx1.ravel(), mx2.ravel(), evaluate_normal(mx1, mx2), [0], colors=\"red\")\n",
        "  plt.show()"
      ],
      "execution_count": 5,
      "outputs": [
        {
          "output_type": "display_data",
          "data": {
            "application/vnd.jupyter.widget-view+json": {
              "model_id": "6bcb9d38763642e3b480d547a434192d",
              "version_minor": 0,
              "version_major": 2
            },
            "text/plain": [
              "interactive(children=(FloatSlider(value=0.0, description='a', max=10.0, min=-10.0), FloatSlider(value=0.0, des…"
            ]
          },
          "metadata": {}
        }
      ]
    },
    {
      "cell_type": "markdown",
      "source": [
        "FINITE CURVE"
      ],
      "metadata": {
        "id": "Sx_x8EzfoA7Y"
      }
    },
    {
      "cell_type": "code",
      "source": [
        "def display_finite_curve(a, b, N):\n",
        "  def is_point(x, y, a, b, N):\n",
        "    return (y**2) % N == (x**3+ a*x + b) % N\n",
        "  points = [(x,y) for x in range(N) for y in range(N) if is_point(x,y,a,b,N)]\n",
        "  plt.text(-5,-5,s = \"p = {}\\n a = {}\\n b= {}\".format(N,a,b),c = \"black\",bbox={'facecolor': 'green', 'alpha': 0.5})\n",
        "  plt.scatter(list(zip(*points))[0], list(zip(*points))[1], s=10)"
      ],
      "metadata": {
        "id": "SIsyW0TlZq8Y"
      },
      "execution_count": null,
      "outputs": []
    },
    {
      "cell_type": "code",
      "source": [
        "display_finite_curve(1, -1, 39)"
      ],
      "metadata": {
        "colab": {
          "base_uri": "https://localhost:8080/",
          "height": 266
        },
        "id": "PaDfw_3oaAx-",
        "outputId": "b4b3d8cd-ce95-40c0-e5bc-1fd38d0df4be"
      },
      "execution_count": null,
      "outputs": [
        {
          "output_type": "display_data",
          "data": {
            "image/png": "[encoded data removed]",
            "text/plain": [
              "<Figure size 432x288 with 1 Axes>"
            ]
          },
          "metadata": {
            "needs_background": "light"
          }
        }
      ]
    }
  ]
}